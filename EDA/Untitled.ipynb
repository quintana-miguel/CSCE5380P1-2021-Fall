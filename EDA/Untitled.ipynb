{
 "cells": [
  {
   "cell_type": "code",
   "execution_count": 6,
   "id": "bad05ff1-8dfc-425c-a929-0ed3628d9492",
   "metadata": {},
   "outputs": [],
   "source": [
    "scores = [{'fit_error': None, 'test_scores': {'score': 0.48787878787878786}, 'fit_time': 5.434558868408203, 'score_time': 0.001497507095336914}, {'fit_error': None, 'test_scores': {'score': 0.3695652173913043}, 'fit_time': 6.780001163482666, 'score_time': 0.0015511512756347656}, {'fit_error': None, 'test_scores': {'score': 0.5035971223021583}, 'fit_time': 6.396326541900635, 'score_time': 0.0014662742614746094}, {'fit_error': None, 'test_scores': {'score': 0.6209813874788495}, 'fit_time': 5.443893671035767, 'score_time': 0.0014574527740478516}, {'fit_error': None, 'test_scores': {'score': 0.6033613445378151}, 'fit_time': 5.736393928527832, 'score_time': 0.0014104843139648438}]\n"
   ]
  },
  {
   "cell_type": "code",
   "execution_count": 15,
   "id": "48eb0957-c79f-4539-8538-378f6597c497",
   "metadata": {},
   "outputs": [
    {
     "name": "stdout",
     "output_type": "stream",
     "text": [
      "[{'score': 0.48787878787878786}, {'score': 0.3695652173913043}, {'score': 0.5035971223021583}, {'score': 0.6209813874788495}, {'score': 0.6033613445378151}]\n"
     ]
    },
    {
     "ename": "TypeError",
     "evalue": "list indices must be integers or slices, not str",
     "output_type": "error",
     "traceback": [
      "\u001b[0;31m---------------------------------------------------------------------------\u001b[0m",
      "\u001b[0;31mTypeError\u001b[0m                                 Traceback (most recent call last)",
      "\u001b[0;32m/tmp/ipykernel_17857/2035284262.py\u001b[0m in \u001b[0;36m<module>\u001b[0;34m\u001b[0m\n\u001b[1;32m     37\u001b[0m \u001b[0mresult\u001b[0m \u001b[0;34m=\u001b[0m \u001b[0m_aggregate_score_dicts\u001b[0m\u001b[0;34m(\u001b[0m\u001b[0mscores\u001b[0m\u001b[0;34m)\u001b[0m\u001b[0;34m\u001b[0m\u001b[0;34m\u001b[0m\u001b[0m\n\u001b[1;32m     38\u001b[0m \u001b[0mprint\u001b[0m\u001b[0;34m(\u001b[0m\u001b[0mresult\u001b[0m\u001b[0;34m[\u001b[0m\u001b[0;34m'test_scores'\u001b[0m\u001b[0;34m]\u001b[0m\u001b[0;34m)\u001b[0m\u001b[0;34m\u001b[0m\u001b[0;34m\u001b[0m\u001b[0m\n\u001b[0;32m---> 39\u001b[0;31m \u001b[0mresult\u001b[0m \u001b[0;34m=\u001b[0m \u001b[0mnp\u001b[0m\u001b[0;34m.\u001b[0m\u001b[0marray\u001b[0m\u001b[0;34m(\u001b[0m\u001b[0mlist\u001b[0m\u001b[0;34m(\u001b[0m\u001b[0mresult\u001b[0m\u001b[0;34m[\u001b[0m\u001b[0;34m'test_scores'\u001b[0m\u001b[0;34m]\u001b[0m\u001b[0;34m[\u001b[0m\u001b[0;34m'score'\u001b[0m\u001b[0;34m]\u001b[0m\u001b[0;34m)\u001b[0m\u001b[0;34m)\u001b[0m\u001b[0;34m\u001b[0m\u001b[0;34m\u001b[0m\u001b[0m\n\u001b[0m\u001b[1;32m     40\u001b[0m \u001b[0mprint\u001b[0m\u001b[0;34m(\u001b[0m\u001b[0mresult\u001b[0m\u001b[0;34m)\u001b[0m\u001b[0;34m\u001b[0m\u001b[0;34m\u001b[0m\u001b[0m\n\u001b[1;32m     41\u001b[0m \u001b[0mprint\u001b[0m\u001b[0;34m(\u001b[0m\u001b[0mmean\u001b[0m\u001b[0;34m(\u001b[0m\u001b[0mresult\u001b[0m\u001b[0;34m[\u001b[0m\u001b[0;36m0\u001b[0m\u001b[0;34m]\u001b[0m\u001b[0;34m[\u001b[0m\u001b[0;36m1\u001b[0m\u001b[0;34m]\u001b[0m\u001b[0;34m)\u001b[0m\u001b[0;34m)\u001b[0m\u001b[0;34m\u001b[0m\u001b[0;34m\u001b[0m\u001b[0m\n",
      "\u001b[0;31mTypeError\u001b[0m: list indices must be integers or slices, not str"
     ]
    }
   ],
   "source": [
    "import numbers\n",
    "import numpy as np\n",
    "from numpy import mean\n",
    "from numpy import float64\n",
    "\n",
    "def _aggregate_score_dicts(scores):\n",
    "    \"\"\"Aggregate the list of dict to dict of np ndarray\n",
    "\n",
    "    The aggregated output of _aggregate_score_dicts will be a list of dict\n",
    "    of form [{'prec': 0.1, 'acc':1.0}, {'prec': 0.1, 'acc':1.0}, ...]\n",
    "    Convert it to a dict of array {'prec': np.array([0.1 ...]), ...}\n",
    "\n",
    "    Parameters\n",
    "    ----------\n",
    "\n",
    "    scores : list of dict\n",
    "        List of dicts of the scores for all scorers. This is a flat list,\n",
    "        assumed originally to be of row major order.\n",
    "\n",
    "    Example\n",
    "    -------\n",
    "\n",
    "    >>> scores = [{'a': 1, 'b':10}, {'a': 2, 'b':2}, {'a': 3, 'b':3},\n",
    "    ...           {'a': 10, 'b': 10}]                         # doctest: +SKIP\n",
    "    >>> _aggregate_score_dicts(scores)                        # doctest: +SKIP\n",
    "    {'a': array([1, 2, 3, 10]),\n",
    "     'b': array([10, 2, 3, 10])}\n",
    "    \"\"\"\n",
    "    #print(scores)\n",
    "    return {\n",
    "        key: np.asarray([score[key] for score in scores])\n",
    "        if isinstance(scores[0][key], numbers.Number)\n",
    "        else [score[key] for score in scores]\n",
    "        for key in scores[0]\n",
    "    }\n",
    "\n",
    "result = _aggregate_score_dicts(scores)\n",
    "print(result['test_scores'])\n",
    "result = np.array(list(result['test_scores']['score']))\n",
    "print(result)\n",
    "print(mean(result[0][1]))"
   ]
  },
  {
   "cell_type": "code",
   "execution_count": null,
   "id": "b6b30f63-9914-43e6-91f5-a64b5c3e0170",
   "metadata": {},
   "outputs": [],
   "source": [
    "scores = [{'score': 0.48787878787878786}, {'score': 0.3695652173913043}, {'score': 0.5035971223021583}, {'score': 0.6209813874788495}, {'score': 0.6033613445378151}]"
   ]
  },
  {
   "cell_type": "code",
   "execution_count": null,
   "id": "74a802f8-c589-4699-94a8-e93f2ccce459",
   "metadata": {},
   "outputs": [],
   "source": [
    "result = _aggregate_score_dicts(scores)\n",
    "result = np.array(list(result.items()), dtype=float64)\n",
    "print(result[0][1])\n",
    "print(mean(result[0][1]))"
   ]
  },
  {
   "cell_type": "code",
   "execution_count": null,
   "id": "9515fa30-1b14-4acb-93a6-3addecdfb9e8",
   "metadata": {},
   "outputs": [],
   "source": []
  }
 ],
 "metadata": {
  "kernelspec": {
   "display_name": "Python 3 (ipykernel)",
   "language": "python",
   "name": "python3"
  },
  "language_info": {
   "codemirror_mode": {
    "name": "ipython",
    "version": 3
   },
   "file_extension": ".py",
   "mimetype": "text/x-python",
   "name": "python",
   "nbconvert_exporter": "python",
   "pygments_lexer": "ipython3",
   "version": "3.8.11"
  },
  "widgets": {
   "application/vnd.jupyter.widget-state+json": {
    "state": {},
    "version_major": 2,
    "version_minor": 0
   }
  }
 },
 "nbformat": 4,
 "nbformat_minor": 5
}
